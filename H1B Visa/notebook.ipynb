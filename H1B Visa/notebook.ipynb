{
  "metadata": {
    "kernelspec": {
      "display_name": "Python 3",
      "language": "python",
      "name": "python3"
    },
    "language_info": {
      "codemirror_mode": {
        "name": "ipython",
        "version": 3
      },
      "file_extension": ".py",
      "mimetype": "text/x-python",
      "name": "python",
      "nbconvert_exporter": "python",
      "pygments_lexer": "ipython3",
      "version": "3.6.0"
    }
  },
  "nbformat": 4,
  "nbformat_minor": 0,
  "cells": [
    {
      "cell_type": "markdown",
      "source": "This is just a quick exploratory analysis into the H1B datasets as well as a playground for me to try out python for data analysis and plotting.",
      "execution_count": null,
      "outputs": [],
      "metadata": {}
    },
    {
      "cell_type": "markdown",
      "source": "First all necessary libraries and the data will be loaded.",
      "execution_count": null,
      "outputs": [],
      "metadata": {}
    },
    {
      "cell_type": "code",
      "source": "# This Python 3 environment comes with many helpful analytics libraries installed\n# It is defined by the kaggle/python docker image: https://github.com/kaggle/docker-python\n# For example, here's several helpful packages to load in \n\nimport numpy as np # linear algebra\nimport pandas as pd # data processing, CSV file I/O (e.g. pd.read_csv)\nimport matplotlib as mpl\nimport matplotlib.pyplot as plt\n\nimport seaborn as sns #upgraded matplotlib\n%matplotlib inline",
      "execution_count": 1,
      "outputs": [],
      "metadata": {}
    },
    {
      "cell_type": "code",
      "source": "h1b = pd.read_csv(\"../input/h1b_kaggle.csv\")",
      "execution_count": 3,
      "outputs": [],
      "metadata": {}
    },
    {
      "cell_type": "markdown",
      "source": "Next, we examine the head and tail of the data to get an understanding of the type of data we will be dealing with.",
      "execution_count": null,
      "outputs": [],
      "metadata": {}
    },
    {
      "cell_type": "code",
      "source": "h1b.head()",
      "execution_count": 4,
      "outputs": [
        {
          "data": {
            "text/html": "<div>\n<table border=\"1\" class=\"dataframe\">\n  <thead>\n    <tr style=\"text-align: right;\">\n      <th></th>\n      <th>Unnamed: 0</th>\n      <th>CASE_STATUS</th>\n      <th>EMPLOYER_NAME</th>\n      <th>SOC_NAME</th>\n      <th>JOB_TITLE</th>\n      <th>FULL_TIME_POSITION</th>\n      <th>PREVAILING_WAGE</th>\n      <th>YEAR</th>\n      <th>WORKSITE</th>\n      <th>lon</th>\n      <th>lat</th>\n    </tr>\n  </thead>\n  <tbody>\n    <tr>\n      <th>0</th>\n      <td>1</td>\n      <td>CERTIFIED-WITHDRAWN</td>\n      <td>UNIVERSITY OF MICHIGAN</td>\n      <td>BIOCHEMISTS AND BIOPHYSICISTS</td>\n      <td>POSTDOCTORAL RESEARCH FELLOW</td>\n      <td>N</td>\n      <td>36067.0</td>\n      <td>2016.0</td>\n      <td>ANN ARBOR, MICHIGAN</td>\n      <td>-83.743038</td>\n      <td>42.280826</td>\n    </tr>\n    <tr>\n      <th>1</th>\n      <td>2</td>\n      <td>CERTIFIED-WITHDRAWN</td>\n      <td>GOODMAN NETWORKS, INC.</td>\n      <td>CHIEF EXECUTIVES</td>\n      <td>CHIEF OPERATING OFFICER</td>\n      <td>Y</td>\n      <td>242674.0</td>\n      <td>2016.0</td>\n      <td>PLANO, TEXAS</td>\n      <td>-96.698886</td>\n      <td>33.019843</td>\n    </tr>\n    <tr>\n      <th>2</th>\n      <td>3</td>\n      <td>CERTIFIED-WITHDRAWN</td>\n      <td>PORTS AMERICA GROUP, INC.</td>\n      <td>CHIEF EXECUTIVES</td>\n      <td>CHIEF PROCESS OFFICER</td>\n      <td>Y</td>\n      <td>193066.0</td>\n      <td>2016.0</td>\n      <td>JERSEY CITY, NEW JERSEY</td>\n      <td>-74.077642</td>\n      <td>40.728158</td>\n    </tr>\n    <tr>\n      <th>3</th>\n      <td>4</td>\n      <td>CERTIFIED-WITHDRAWN</td>\n      <td>GATES CORPORATION, A WHOLLY-OWNED SUBSIDIARY O...</td>\n      <td>CHIEF EXECUTIVES</td>\n      <td>REGIONAL PRESIDEN, AMERICAS</td>\n      <td>Y</td>\n      <td>220314.0</td>\n      <td>2016.0</td>\n      <td>DENVER, COLORADO</td>\n      <td>-104.990251</td>\n      <td>39.739236</td>\n    </tr>\n    <tr>\n      <th>4</th>\n      <td>5</td>\n      <td>WITHDRAWN</td>\n      <td>PEABODY INVESTMENTS CORP.</td>\n      <td>CHIEF EXECUTIVES</td>\n      <td>PRESIDENT MONGOLIA AND INDIA</td>\n      <td>Y</td>\n      <td>157518.4</td>\n      <td>2016.0</td>\n      <td>ST. LOUIS, MISSOURI</td>\n      <td>-90.199404</td>\n      <td>38.627003</td>\n    </tr>\n  </tbody>\n</table>\n</div>",
            "text/plain": "   Unnamed: 0          CASE_STATUS  \\\n0           1  CERTIFIED-WITHDRAWN   \n1           2  CERTIFIED-WITHDRAWN   \n2           3  CERTIFIED-WITHDRAWN   \n3           4  CERTIFIED-WITHDRAWN   \n4           5            WITHDRAWN   \n\n                                       EMPLOYER_NAME  \\\n0                             UNIVERSITY OF MICHIGAN   \n1                             GOODMAN NETWORKS, INC.   \n2                          PORTS AMERICA GROUP, INC.   \n3  GATES CORPORATION, A WHOLLY-OWNED SUBSIDIARY O...   \n4                          PEABODY INVESTMENTS CORP.   \n\n                        SOC_NAME                     JOB_TITLE  \\\n0  BIOCHEMISTS AND BIOPHYSICISTS  POSTDOCTORAL RESEARCH FELLOW   \n1               CHIEF EXECUTIVES       CHIEF OPERATING OFFICER   \n2               CHIEF EXECUTIVES         CHIEF PROCESS OFFICER   \n3               CHIEF EXECUTIVES   REGIONAL PRESIDEN, AMERICAS   \n4               CHIEF EXECUTIVES  PRESIDENT MONGOLIA AND INDIA   \n\n  FULL_TIME_POSITION  PREVAILING_WAGE    YEAR                 WORKSITE  \\\n0                  N          36067.0  2016.0      ANN ARBOR, MICHIGAN   \n1                  Y         242674.0  2016.0             PLANO, TEXAS   \n2                  Y         193066.0  2016.0  JERSEY CITY, NEW JERSEY   \n3                  Y         220314.0  2016.0         DENVER, COLORADO   \n4                  Y         157518.4  2016.0      ST. LOUIS, MISSOURI   \n\n          lon        lat  \n0  -83.743038  42.280826  \n1  -96.698886  33.019843  \n2  -74.077642  40.728158  \n3 -104.990251  39.739236  \n4  -90.199404  38.627003  "
          },
          "execution_count": 4,
          "metadata": {},
          "output_type": "execute_result"
        }
      ],
      "metadata": {}
    },
    {
      "cell_type": "code",
      "source": "h1b.tail()",
      "execution_count": 5,
      "outputs": [
        {
          "data": {
            "text/html": "<div>\n<table border=\"1\" class=\"dataframe\">\n  <thead>\n    <tr style=\"text-align: right;\">\n      <th></th>\n      <th>Unnamed: 0</th>\n      <th>CASE_STATUS</th>\n      <th>EMPLOYER_NAME</th>\n      <th>SOC_NAME</th>\n      <th>JOB_TITLE</th>\n      <th>FULL_TIME_POSITION</th>\n      <th>PREVAILING_WAGE</th>\n      <th>YEAR</th>\n      <th>WORKSITE</th>\n      <th>lon</th>\n      <th>lat</th>\n    </tr>\n  </thead>\n  <tbody>\n    <tr>\n      <th>3002453</th>\n      <td>3002454</td>\n      <td>NaN</td>\n      <td>NaN</td>\n      <td>NaN</td>\n      <td>NaN</td>\n      <td>NaN</td>\n      <td>NaN</td>\n      <td>NaN</td>\n      <td>NYC, NEW YORK</td>\n      <td>-74.005941</td>\n      <td>40.712784</td>\n    </tr>\n    <tr>\n      <th>3002454</th>\n      <td>3002455</td>\n      <td>NaN</td>\n      <td>NaN</td>\n      <td>NaN</td>\n      <td>NaN</td>\n      <td>NaN</td>\n      <td>NaN</td>\n      <td>NaN</td>\n      <td>SOUTH LAKE, TEXAS</td>\n      <td>-97.134178</td>\n      <td>32.941236</td>\n    </tr>\n    <tr>\n      <th>3002455</th>\n      <td>3002456</td>\n      <td>NaN</td>\n      <td>NaN</td>\n      <td>NaN</td>\n      <td>NaN</td>\n      <td>NaN</td>\n      <td>NaN</td>\n      <td>NaN</td>\n      <td>CLINTON, NEW JERSEY</td>\n      <td>-74.909890</td>\n      <td>40.636768</td>\n    </tr>\n    <tr>\n      <th>3002456</th>\n      <td>3002457</td>\n      <td>NaN</td>\n      <td>NaN</td>\n      <td>NaN</td>\n      <td>NaN</td>\n      <td>NaN</td>\n      <td>NaN</td>\n      <td>NaN</td>\n      <td>OWINGS MILL, MARYLAND</td>\n      <td>-76.780253</td>\n      <td>39.419550</td>\n    </tr>\n    <tr>\n      <th>3002457</th>\n      <td>3002458</td>\n      <td>NaN</td>\n      <td>NaN</td>\n      <td>NaN</td>\n      <td>NaN</td>\n      <td>NaN</td>\n      <td>NaN</td>\n      <td>NaN</td>\n      <td>ALTANTA, GEORGIA</td>\n      <td>-84.387982</td>\n      <td>33.748995</td>\n    </tr>\n  </tbody>\n</table>\n</div>",
            "text/plain": "         Unnamed: 0 CASE_STATUS EMPLOYER_NAME SOC_NAME JOB_TITLE  \\\n3002453     3002454         NaN           NaN      NaN       NaN   \n3002454     3002455         NaN           NaN      NaN       NaN   \n3002455     3002456         NaN           NaN      NaN       NaN   \n3002456     3002457         NaN           NaN      NaN       NaN   \n3002457     3002458         NaN           NaN      NaN       NaN   \n\n        FULL_TIME_POSITION  PREVAILING_WAGE  YEAR               WORKSITE  \\\n3002453                NaN              NaN   NaN          NYC, NEW YORK   \n3002454                NaN              NaN   NaN      SOUTH LAKE, TEXAS   \n3002455                NaN              NaN   NaN    CLINTON, NEW JERSEY   \n3002456                NaN              NaN   NaN  OWINGS MILL, MARYLAND   \n3002457                NaN              NaN   NaN       ALTANTA, GEORGIA   \n\n               lon        lat  \n3002453 -74.005941  40.712784  \n3002454 -97.134178  32.941236  \n3002455 -74.909890  40.636768  \n3002456 -76.780253  39.419550  \n3002457 -84.387982  33.748995  "
          },
          "execution_count": 5,
          "metadata": {},
          "output_type": "execute_result"
        }
      ],
      "metadata": {}
    },
    {
      "cell_type": "markdown",
      "source": "As we can see from the data, there are numerous columns each representing pay, location, employer, H1B status, and type of position. As can also be seen from the tail end of the data, there appears to be some number of data which is NaN.  We filter out the NaN data based on data with an unknown case status. ",
      "execution_count": null,
      "outputs": [],
      "metadata": {}
    },
    {
      "cell_type": "code",
      "source": "h1b_filtered = h1b.dropna()",
      "execution_count": 11,
      "outputs": [],
      "metadata": {}
    },
    {
      "cell_type": "markdown",
      "source": "Now that the data has been filtered by NaN, we can examine the data in greater detail. First, we will take a look at the worksites that are requesting the visas.",
      "execution_count": 12,
      "outputs": [
        {
          "data": {
            "text/html": "<div>\n<table border=\"1\" class=\"dataframe\">\n  <thead>\n    <tr style=\"text-align: right;\">\n      <th></th>\n      <th>Unnamed: 0</th>\n      <th>CASE_STATUS</th>\n      <th>EMPLOYER_NAME</th>\n      <th>SOC_NAME</th>\n      <th>JOB_TITLE</th>\n      <th>FULL_TIME_POSITION</th>\n      <th>PREVAILING_WAGE</th>\n      <th>YEAR</th>\n      <th>WORKSITE</th>\n      <th>lon</th>\n      <th>lat</th>\n    </tr>\n  </thead>\n  <tbody>\n    <tr>\n      <th>3002440</th>\n      <td>3002441</td>\n      <td>WITHDRAWN</td>\n      <td>ORACLE AMERICA, INC.</td>\n      <td>Software Developers, Applications</td>\n      <td>SOFTWARE ENGINEER (SOFTWARE DEVELOPER 2)</td>\n      <td>Y</td>\n      <td>64800.0</td>\n      <td>2011.0</td>\n      <td>REDWOOD SHORES, CALIFORNIA</td>\n      <td>-122.245536</td>\n      <td>37.536413</td>\n    </tr>\n    <tr>\n      <th>3002441</th>\n      <td>3002442</td>\n      <td>WITHDRAWN</td>\n      <td>B &amp; D DENTAL CORP.</td>\n      <td>Materials Scientists</td>\n      <td>MATERIALS SCIENTIST</td>\n      <td>N</td>\n      <td>70553.6</td>\n      <td>2011.0</td>\n      <td>WEST VALLEY, UTAH</td>\n      <td>-112.001050</td>\n      <td>40.691613</td>\n    </tr>\n    <tr>\n      <th>3002442</th>\n      <td>3002443</td>\n      <td>WITHDRAWN</td>\n      <td>MEDTECH STAFFING &amp; SOLUTIONS, INC</td>\n      <td>Market Research Analysts and Marketing Special...</td>\n      <td>MARKET RESEARCH ANALYST</td>\n      <td>Y</td>\n      <td>33800.0</td>\n      <td>2011.0</td>\n      <td>AKRON, OHIO</td>\n      <td>-81.519005</td>\n      <td>41.081445</td>\n    </tr>\n    <tr>\n      <th>3002443</th>\n      <td>3002444</td>\n      <td>WITHDRAWN</td>\n      <td>LARSEN &amp; TOUBRO LIMITED</td>\n      <td>Commercial and Industrial Designers</td>\n      <td>DESIGN ENGINEER</td>\n      <td>Y</td>\n      <td>59800.0</td>\n      <td>2011.0</td>\n      <td>CHELMSFORD, MASSACHUSETTS</td>\n      <td>-71.367284</td>\n      <td>42.599814</td>\n    </tr>\n    <tr>\n      <th>3002444</th>\n      <td>3002445</td>\n      <td>WITHDRAWN</td>\n      <td>LARSEN &amp; TOUBRO LIMITED</td>\n      <td>Commercial and Industrial Designers</td>\n      <td>DESIGN ENGINEER</td>\n      <td>Y</td>\n      <td>59800.0</td>\n      <td>2011.0</td>\n      <td>CHELMSFORD, MASSACHUSETTS</td>\n      <td>-71.367284</td>\n      <td>42.599814</td>\n    </tr>\n  </tbody>\n</table>\n</div>",
            "text/plain": "         Unnamed: 0 CASE_STATUS                      EMPLOYER_NAME  \\\n3002440     3002441   WITHDRAWN               ORACLE AMERICA, INC.   \n3002441     3002442   WITHDRAWN                 B & D DENTAL CORP.   \n3002442     3002443   WITHDRAWN  MEDTECH STAFFING & SOLUTIONS, INC   \n3002443     3002444   WITHDRAWN            LARSEN & TOUBRO LIMITED   \n3002444     3002445   WITHDRAWN            LARSEN & TOUBRO LIMITED   \n\n                                                  SOC_NAME  \\\n3002440                  Software Developers, Applications   \n3002441                               Materials Scientists   \n3002442  Market Research Analysts and Marketing Special...   \n3002443                Commercial and Industrial Designers   \n3002444                Commercial and Industrial Designers   \n\n                                        JOB_TITLE FULL_TIME_POSITION  \\\n3002440  SOFTWARE ENGINEER (SOFTWARE DEVELOPER 2)                  Y   \n3002441                       MATERIALS SCIENTIST                  N   \n3002442                   MARKET RESEARCH ANALYST                  Y   \n3002443                           DESIGN ENGINEER                  Y   \n3002444                           DESIGN ENGINEER                  Y   \n\n         PREVAILING_WAGE    YEAR                    WORKSITE         lon  \\\n3002440          64800.0  2011.0  REDWOOD SHORES, CALIFORNIA -122.245536   \n3002441          70553.6  2011.0           WEST VALLEY, UTAH -112.001050   \n3002442          33800.0  2011.0                 AKRON, OHIO  -81.519005   \n3002443          59800.0  2011.0   CHELMSFORD, MASSACHUSETTS  -71.367284   \n3002444          59800.0  2011.0   CHELMSFORD, MASSACHUSETTS  -71.367284   \n\n               lat  \n3002440  37.536413  \n3002441  40.691613  \n3002442  41.081445  \n3002443  42.599814  \n3002444  42.599814  "
          },
          "execution_count": 12,
          "metadata": {},
          "output_type": "execute_result"
        }
      ],
      "metadata": {}
    },
    {
      "cell_type": "code",
      "source": "worksites = h1b_filtered.groupby([\"WORKSITE\"]).agg({'WORKSITE':len})\n",
      "execution_count": 27,
      "outputs": [],
      "metadata": {}
    },
    {
      "cell_type": "code",
      "source": "worksites[:1]['WORKSITE']",
      "execution_count": 28,
      "outputs": [
        {
          "data": {
            "text/plain": "WORKSITE\nABBOTT PARK, ILLINOIS    603\nName: WORKSITE, dtype: int64"
          },
          "execution_count": 28,
          "metadata": {},
          "output_type": "execute_result"
        }
      ],
      "metadata": {}
    },
    {
      "cell_type": "code",
      "source": null,
      "execution_count": null,
      "outputs": [],
      "metadata": {}
    }
  ]
}